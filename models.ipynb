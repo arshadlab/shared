{
 "cells": [
  {
   "cell_type": "code",
   "execution_count": 7,
   "metadata": {},
   "outputs": [],
   "source": [
    "# plot feature map of first conv layer for given image\n",
    "from keras.applications.vgg16 import VGG16\n",
    "from keras.applications.vgg16 import preprocess_input\n",
    "from keras.applications import densenet\n",
    "from keras.applications.densenet import DenseNet201, DenseNet121\n",
    "from keras.applications.densenet import preprocess_input as densenet_preprocessor_input\n",
    "from keras.applications.densenet import decode_predictions as densenet_decode_predictions\n",
    "\n",
    "\n",
    "from keras.preprocessing.image import load_img\n",
    "from keras.preprocessing.image import img_to_array\n",
    "from keras.models import Model\n",
    "from matplotlib import pyplot\n",
    "from numpy import expand_dims\n",
    "\n",
    "#vgg16model = VGG16(weights='imagenet')\n",
    "dense201model = DenseNet201(weights='imagenet')\n",
    "#dense121model = DenseNet121(weights='imagenet')\n"
   ]
  },
  {
   "cell_type": "code",
   "execution_count": null,
   "metadata": {},
   "outputs": [
    {
     "name": "stdout",
     "output_type": "stream",
     "text": [
      "(1, 56, 56, 96)\n"
     ]
    }
   ],
   "source": [
    "# redefine model to output right after the first hidden layer\n",
    "output_layerno = 13\n",
    "model = Model(inputs=dense201model.inputs, outputs=dense201model.layers[output_layerno].output)\n",
    "\n",
    "#model.summary()\n",
    "# load the image with the required shape\n",
    "img = load_img('/home/arshad/crowd.jpg', target_size=(224, 224))\n",
    "# convert the image to an array\n",
    "img = img_to_array(img)\n",
    "# expand dimensions so that it represents a single 'sample'\n",
    "img = expand_dims(img, axis=0)\n",
    "# prepare the image (e.g. scale pixel values for the vgg)\n",
    "img = preprocess_input(img)\n",
    "# get feature map for first hidden layer\n",
    "feature_maps = model.predict(img)\n",
    "\n",
    "width, height, features = feature_maps.shape[1], feature_maps.shape[2], feature_maps.shape[3]\n",
    "print(feature_maps.shape)\n",
    "\n",
    "#overwrite width and height since src is too small (56,56)\n",
    "width, height = 200, 200\n",
    "figsize = width, height\n",
    "\n",
    "fig, ax = pyplot.subplots(features, 1, figsize=figsize)\n",
    "\n",
    "for i in range(0,features):\n",
    "    # specify subplot and turn of axis\n",
    "    ax[i].axis('off')\n",
    "    ax[i].imshow(feature_maps[0, :, :, i],   cmap='gray')\n",
    "\n",
    "# show the figure\n",
    "pyplot.show()"
   ]
  },
  {
   "cell_type": "code",
   "execution_count": null,
   "metadata": {},
   "outputs": [],
   "source": []
  }
 ],
 "metadata": {
  "kernelspec": {
   "display_name": "Python 3",
   "language": "python",
   "name": "python3"
  },
  "language_info": {
   "codemirror_mode": {
    "name": "ipython",
    "version": 3
   },
   "file_extension": ".py",
   "mimetype": "text/x-python",
   "name": "python",
   "nbconvert_exporter": "python",
   "pygments_lexer": "ipython3",
   "version": "3.6.8"
  }
 },
 "nbformat": 4,
 "nbformat_minor": 4
}
